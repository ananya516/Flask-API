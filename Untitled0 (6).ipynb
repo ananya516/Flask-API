{
  "nbformat": 4,
  "nbformat_minor": 0,
  "metadata": {
    "colab": {
      "provenance": []
    },
    "kernelspec": {
      "name": "python3",
      "display_name": "Python 3"
    },
    "language_info": {
      "name": "python"
    }
  },
  "cells": [
    {
      "cell_type": "code",
      "execution_count": null,
      "metadata": {
        "id": "d3Lw9tSUUgxR"
      },
      "outputs": [],
      "source": [
        "1. What is a RESTful API?\n",
        "  A RESTful API (Representational State Transfer) follows REST principles to allow communication between client and server.\n",
        "  It uses HTTP methods (GET, POST, PUT, DELETE) for CRUD operations.\n",
        "  Data is typically exchanged in JSON format.\n",
        "\n",
        "2. What is an API specification?\n",
        "   It’s a blueprint that defines how an API behaves.\n",
        "   Examples: OpenAPI (Swagger), RAML.\n",
        "\n",
        "3. What is Flask and why is it popular for building APIs?\n",
        "\n",
        "   Flask is a lightweight Python web framework.\n",
        "   Popular because:\n",
        "   Minimal setup, easy to use.\n",
        "   Extensible with add-ons like Flask-RESTful, Flask-SQLAlchemy.\n",
        "   Ideal for building simple to moderate APIs quickly.\n",
        "\n",
        "4. What is routing in Flask?\n",
        "   Routing connects a URL path to a Python function.\n",
        "   Enables defining different endpoints (e.g., /home, /api/data).\n",
        "\n",
        "5. How do you create a simple Flask application?\n",
        "from flask import Flask\n",
        "app = Flask(__name__)\n",
        "\n",
        "@app.route('/')\n",
        "def home():\n",
        "    return 'Hello, Flask!'\n",
        "\n",
        "if __name__ == '__main__':\n",
        "    app.run(debug=True)\n",
        "\n",
        "6. What are HTTP methods used in RESTful APIs?\n",
        "GET – Retrieve data.\n",
        "\n",
        "POST – Send new data.\n",
        "\n",
        "PUT – Update existing data.\n",
        "\n",
        "DELETE – Delete data.\n",
        "\n",
        "PATCH – Partially update data.\n",
        "\n",
        "7. What is the purpose of the @app.route() decorator in Flask?\n",
        "Maps a URL pattern to a view function.\n",
        "\n",
        "Example: @app.route('/about') binds the URL /about to a function.\n",
        "\n",
        "8. Difference between GET and POST HTTP methods:\n",
        "Feature\tGET\tPOST\n",
        "Purpose\tFetch data\tSubmit data\n",
        "Data Location\tURL params\tRequest body\n",
        "Idempotent\tYes\tNo\n",
        "Visible in URL\tYes\tNo\n",
        "\n",
        "9. How do you handle errors in Flask APIs?\n",
        "\n",
        "@app.errorhandler(404)\n",
        "def not_found(error):\n",
        "    return jsonify({'error': 'Not Found'}), 404\n",
        "10. How do you connect Flask to a SQL database?\n",
        "Use Flask-SQLAlchemy.\n",
        "from flask_sqlalchemy import SQLAlchemy\n",
        "app.config['SQLALCHEMY_DATABASE_URI'] = 'sqlite:///example.db'\n",
        "db = SQLAlchemy(app)\n",
        "\n",
        "11. What is the role of Flask-SQLAlchemy?\n",
        "Adds SQLAlchemy ORM support to Flask.\n",
        "\n",
        "Simplifies database operations using Python classes.\n",
        "\n",
        "12. What are Flask blueprints and why are they useful?\n",
        "Blueprints allow modularizing the app.\n",
        "\n",
        "Useful for organizing large applications by dividing routes into components.\n",
        "\n",
        "13. What is the purpose of Flask's request object?\n",
        "Gives access to HTTP request data like:\n",
        "\n",
        "request.args (query parameters)\n",
        "\n",
        "request.form (form data)\n",
        "\n",
        "request.json (JSON payload)\n",
        "\n",
        "14. How do you create a RESTful API endpoint using Flask?\n",
        "@app.route('/api/data', methods=['GET'])\n",
        "def get_data():\n",
        "    return jsonify({'key': 'value'})\n",
        "15. What is the purpose of Flask's jsonify() function?\n",
        "Converts Python dictionaries/lists to JSON format.\n",
        "\n",
        "Sets correct Content-Type: application/json header.\n",
        "\n",
        "16. Explain Flask’s url_for() function:\n",
        "Generates a URL from the function name.\n",
        "\n",
        "url_for('home')  # Returns '/'\n",
        "17. How does Flask handle static files (CSS, JavaScript, etc.)?\n",
        "Stored in a static/ directory.\n",
        "\n",
        "Accessed using: /static/<filename>\n",
        "\n",
        "html\n",
        "Copy\n",
        "Edit\n",
        "<link rel=\"stylesheet\" href=\"{{ url_for('static', filename='style.css') }}\">\n",
        "18. What is an API specification and how does it help in Flask API development?\n",
        "Serves as a contract between front-end and back-end.\n",
        "\n",
        "Ensures consistency in API design, testing, and documentation.\n",
        "\n",
        "19. What are HTTP status codes and why are they important?\n",
        "Represent response status:\n",
        "\n",
        "200 OK – Success\n",
        "\n",
        "201 Created – Resource added\n",
        "\n",
        "400 Bad Request – Client error\n",
        "\n",
        "404 Not Found – URL not found\n",
        "\n",
        "500 Internal Server Error – Server issue\n",
        "\n",
        "20. How do you handle POST requests in Flask?\n",
        "\n",
        "@app.route('/submit', methods=['POST'])\n",
        "def submit():\n",
        "    data = request.json\n",
        "    return jsonify({'received': data}), 201\n",
        "21. How would you secure a Flask API?\n",
        "Use HTTPS\n",
        "\n",
        "Add Authentication/Authorization (JWT, OAuth2)\n",
        "\n",
        "Rate limiting (Flask-Limiter)\n",
        "\n",
        "Input validation\n",
        "\n",
        "22. What is the significance of Flask-RESTful?\n",
        "Adds tools to easily build RESTful APIs with Flask.\n",
        "\n",
        "Supports resource-based classes and automatic request parsing.\n",
        "\n",
        "23. What is the role of Flask’s session object?\n",
        "Stores data across requests (e.g., user login info).\n",
        "\n",
        "Data is stored in cookies.\n",
        "\n"
      ]
    },
    {
      "cell_type": "code",
      "source": [
        "#24. Create a basic Flask application\n",
        "\n",
        "from flask import Flask\n",
        "app = Flask(__name__)\n",
        "@app.route('/')\n",
        "def index():\n",
        "    return 'Welcome!'"
      ],
      "metadata": {
        "id": "ls1sebbsVR_C"
      },
      "execution_count": 1,
      "outputs": []
    },
    {
      "cell_type": "code",
      "source": [
        "#26. Define routes with HTTP methods\n",
        "\n",
        "@app.route('/data', methods=['GET', 'POST'])\n",
        "def data():\n",
        "    if request.method == 'POST':\n",
        "        return 'POST received'\n",
        "    return 'GET received'"
      ],
      "metadata": {
        "id": "qJ_5EBscVXpq"
      },
      "execution_count": 2,
      "outputs": []
    },
    {
      "cell_type": "code",
      "source": [
        "#27. Render HTML templates\n",
        "\n",
        "@app.route('/')\n",
        "def home():\n",
        "    return render_template('index.html')"
      ],
      "metadata": {
        "id": "GafgHbH_Vgk5"
      },
      "execution_count": 3,
      "outputs": []
    },
    {
      "cell_type": "code",
      "source": [
        "#29. Handle forms in Flask\n",
        "\n",
        "@app.route('/form', methods=['POST'])\n",
        "def form():\n",
        "    name = request.form['name']\n",
        "    return f'Hello {name}'"
      ],
      "metadata": {
        "id": "sGDJx8GPVj5B"
      },
      "execution_count": 5,
      "outputs": []
    },
    {
      "cell_type": "code",
      "source": [
        "#32. Redirect to a different route\n",
        "\n",
        "return redirect(url_for('dashboard'))"
      ],
      "metadata": {
        "id": "HDHr6FDKVmlP"
      },
      "execution_count": null,
      "outputs": []
    },
    {
      "cell_type": "code",
      "source": [
        "#33. Handle errors (e.g., 404)\n",
        "\n",
        "@app.errorhandler(404)\n",
        "def page_not_found(e):\n",
        "    return 'Page not found', 404"
      ],
      "metadata": {
        "id": "AaHtF8XkVunH"
      },
      "execution_count": 8,
      "outputs": []
    },
    {
      "cell_type": "code",
      "source": [
        "#34. Structure Flask app using Blueprints\n",
        "\n",
        "from flask import Blueprint\n",
        "\n",
        "api = Blueprint('api', __name__)\n",
        "\n",
        "@api.route('/data')\n",
        "def get_data():\n",
        "    return 'Data'\n",
        "\n",
        "# Register in main app\n",
        "app.register_blueprint(api, url_prefix='/api')"
      ],
      "metadata": {
        "id": "E9yKAIz2V4mj"
      },
      "execution_count": 9,
      "outputs": []
    },
    {
      "cell_type": "code",
      "source": [
        "#35. Define custom Jinja filter\n",
        "\n",
        "@app.template_filter('capitalize')\n",
        "def capitalize_filter(s):\n",
        "    return s.capitalize()"
      ],
      "metadata": {
        "id": "5SRAmMlcV8Lj"
      },
      "execution_count": 10,
      "outputs": []
    },
    {
      "cell_type": "code",
      "source": [
        "#36. Redirect with query parameters\n",
        "\n",
        "return redirect(url_for('search', q='flask'))"
      ],
      "metadata": {
        "id": "3nf5lffeV-0X"
      },
      "execution_count": null,
      "outputs": []
    },
    {
      "cell_type": "code",
      "source": [
        "#37. Return JSON responses\n",
        "\n",
        "return jsonify({'message': 'Success'})"
      ],
      "metadata": {
        "id": "OgvwWiIsWBl5"
      },
      "execution_count": null,
      "outputs": []
    },
    {
      "cell_type": "code",
      "source": [
        "#38. Capture URL parameters\n",
        "\n",
        "@app.route('/user/<username>')\n",
        "def profile(username):\n",
        "    return f'User: {username}'"
      ],
      "metadata": {
        "id": "4ZKyLssHWFc7"
      },
      "execution_count": 13,
      "outputs": []
    },
    {
      "cell_type": "code",
      "source": [],
      "metadata": {
        "id": "1dvOC3SjWItf"
      },
      "execution_count": null,
      "outputs": []
    }
  ]
}